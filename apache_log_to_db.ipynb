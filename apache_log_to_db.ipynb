{
 "cells": [
  {
   "cell_type": "code",
   "execution_count": null,
   "metadata": {},
   "outputs": [],
   "source": [
    "import apache_log_parser\n",
    "from rich.progress import track\n",
    "import pandas as pd\n",
    "import user_db\n",
    "import datetime"
   ]
  },
  {
   "cell_type": "code",
   "execution_count": null,
   "metadata": {},
   "outputs": [],
   "source": [
    "log_file = open('data/access.log', 'r')\n",
    "log = []\n",
    "\n",
    "log = [line for line in log_file]\n",
    "\n",
    "log_file.close()"
   ]
  },
  {
   "cell_type": "code",
   "execution_count": null,
   "metadata": {},
   "outputs": [],
   "source": [
    "line_parser = apache_log_parser.make_parser(\"%h %l %u %t \\\"%r\\\" %>s %b \\\"%{Referer}i\\\" \\\"%{User-Agent}i\\\"\")\n",
    "parsed_log = [line_parser(line) for line in track(log)]\n",
    "\n",
    "print(f'Record Count: {len(parsed_log)}')"
   ]
  },
  {
   "cell_type": "code",
   "execution_count": null,
   "metadata": {},
   "outputs": [],
   "source": [
    "# Keep commented out unless you want to reset the whole db\n",
    "#user_db.reset_db()"
   ]
  },
  {
   "cell_type": "code",
   "execution_count": null,
   "metadata": {},
   "outputs": [],
   "source": [
    "valid_pages = {'', 'about', 'search', 'explore', 'rankings', 'trail-rankings', 'lift-rankings', 'map', 'interactive-map'}\n",
    "\n",
    "count = 0\n",
    "previous_timestamp = datetime.datetime(1970, 1, 1)\n",
    "tuple_list = []\n",
    "\n",
    "for line in track(parsed_log):\n",
    "    count += 1\n",
    "    \n",
    "    if 'request_url_path' not in line:\n",
    "        continue\n",
    "\n",
    "    page_visited = line['request_url_path']\n",
    "    \n",
    "    if '.' in page_visited or '/' not in page_visited:\n",
    "        continue\n",
    "    \n",
    "    page_category = page_visited.split('/')[1]\n",
    "    \n",
    "    if page_category not in valid_pages:\n",
    "        continue\n",
    "\n",
    "    page_category = '/' + page_category\n",
    "    timestamp = line['time_received_datetimeobj']\n",
    "    ip = line['remote_host']\n",
    "\n",
    "    parameters = line['request_url_query_dict']\n",
    "    if parameters:\n",
    "        parameters = str({key: value[0] for key, value in parameters.items()})\n",
    "    else:\n",
    "        parameters = None\n",
    "\n",
    "    # Use microsecond-free versions once\n",
    "    timestamp_no_micro = timestamp.replace(microsecond=0)\n",
    "    previous_timestamp_no_micro = previous_timestamp.replace(microsecond=0)\n",
    "\n",
    "    if timestamp_no_micro < previous_timestamp_no_micro:\n",
    "        timestamp = previous_timestamp + datetime.timedelta(milliseconds=100)\n",
    "    elif timestamp_no_micro == previous_timestamp_no_micro:\n",
    "        timestamp = previous_timestamp + datetime.timedelta(milliseconds=1)\n",
    "\n",
    "    tuple_list.append((timestamp, ip, page_category, page_visited, parameters))\n",
    "    #user_db.add_log(ip, page_category, page_visited, parameters, timestamp)\n",
    "    previous_timestamp = timestamp\n",
    "\n",
    "    # every 500000 records, flush to db\n",
    "    if count > 500000:\n",
    "        user_db.bulk_add_log(tuple_list)\n",
    "        count = 0\n",
    "        tuple_list = []\n",
    "\n",
    "user_db.bulk_add_log(tuple_list)"
   ]
  }
 ],
 "metadata": {
  "kernelspec": {
   "display_name": "Python 3",
   "language": "python",
   "name": "python3"
  },
  "language_info": {
   "codemirror_mode": {
    "name": "ipython",
    "version": 3
   },
   "file_extension": ".py",
   "mimetype": "text/x-python",
   "name": "python",
   "nbconvert_exporter": "python",
   "pygments_lexer": "ipython3",
   "version": "3.11.1"
  }
 },
 "nbformat": 4,
 "nbformat_minor": 2
}
