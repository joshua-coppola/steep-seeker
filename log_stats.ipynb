{
 "cells": [
  {
   "cell_type": "code",
   "execution_count": null,
   "metadata": {},
   "outputs": [],
   "source": [
    "import apache_log_parser\n",
    "from rich.progress import track\n",
    "import pandas as pd\n",
    "\n",
    "line_parser = apache_log_parser.make_parser(\"%h %l %u %t \\\"%r\\\" %>s %b \\\"%{Referer}i\\\" \\\"%{User-Agent}i\\\"\")\n",
    "\n",
    "log_file = open('data/access.log', 'r')\n",
    "log = []\n",
    "\n",
    "log = [line for line in log_file]\n",
    "\n",
    "log_file.close()\n",
    "\n",
    "parsed_log = [line_parser(line) for line in track(log)]"
   ]
  },
  {
   "cell_type": "code",
   "execution_count": null,
   "metadata": {},
   "outputs": [],
   "source": [
    "df = pd.DataFrame(parsed_log)\n",
    "\n",
    "small_df = df[['remote_host', 'request_url_path', 'time_received_datetimeobj', 'response_bytes_clf']].dropna()\n",
    "small_df['response_bytes_clf'] = pd.to_numeric(small_df['response_bytes_clf'])"
   ]
  },
  {
   "cell_type": "code",
   "execution_count": null,
   "metadata": {},
   "outputs": [],
   "source": [
    "filtered_small_df = small_df[~small_df['request_url_path'].str.contains('\\.')]\n",
    "endpoint_list = ('/trail_rankings', '/rankings', '/search', '/about', '/map', '/interactive-map', '/explore')\n",
    "filtered_small_df = filtered_small_df[filtered_small_df['request_url_path'].str.startswith(endpoint_list)]"
   ]
  },
  {
   "cell_type": "code",
   "execution_count": null,
   "metadata": {},
   "outputs": [],
   "source": [
    "filtered_small_df.describe()"
   ]
  },
  {
   "cell_type": "code",
   "execution_count": null,
   "metadata": {},
   "outputs": [],
   "source": [
    "filtered_small_df.remote_host.value_counts().head(50)"
   ]
  },
  {
   "cell_type": "code",
   "execution_count": null,
   "metadata": {},
   "outputs": [],
   "source": [
    "filtered_small_df['date'] = pd.to_datetime(filtered_small_df['time_received_datetimeobj']).dt.date"
   ]
  },
  {
   "cell_type": "code",
   "execution_count": null,
   "metadata": {},
   "outputs": [],
   "source": [
    "spam_df = filtered_small_df[filtered_small_df['remote_host'] == '73.17.249.14']\n",
    "spam_df.head(10)"
   ]
  },
  {
   "cell_type": "code",
   "execution_count": null,
   "metadata": {},
   "outputs": [],
   "source": [
    "trimmed_df = filtered_small_df[filtered_small_df['date'] > pd.to_datetime('2023-03-01').date()]"
   ]
  },
  {
   "cell_type": "code",
   "execution_count": null,
   "metadata": {},
   "outputs": [],
   "source": [
    "trimmed_df['date'].hist()"
   ]
  },
  {
   "cell_type": "code",
   "execution_count": null,
   "metadata": {},
   "outputs": [],
   "source": [
    "trimmed_df[['response_bytes_clf', 'date']].groupby(['date']).sum().plot()"
   ]
  }
 ],
 "metadata": {
  "kernelspec": {
   "display_name": "Python 3",
   "language": "python",
   "name": "python3"
  },
  "language_info": {
   "codemirror_mode": {
    "name": "ipython",
    "version": 3
   },
   "file_extension": ".py",
   "mimetype": "text/x-python",
   "name": "python",
   "nbconvert_exporter": "python",
   "pygments_lexer": "ipython3",
   "version": "3.11.1"
  }
 },
 "nbformat": 4,
 "nbformat_minor": 2
}
